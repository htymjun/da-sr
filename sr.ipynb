{
  "nbformat": 4,
  "nbformat_minor": 0,
  "metadata": {
    "colab": {
      "provenance": [],
      "gpuType": "T4"
    },
    "kernelspec": {
      "name": "python3",
      "display_name": "Python 3"
    },
    "language_info": {
      "name": "python"
    }
  },
  "cells": [
    {
      "cell_type": "code",
      "execution_count": null,
      "metadata": {
        "id": "l2yMUy1lRuoG",
        "colab": {
          "base_uri": "https://localhost:8080/"
        },
        "outputId": "543a20ea-9ef7-4da5-b965-155a51c3d607"
      },
      "outputs": [
        {
          "output_type": "stream",
          "name": "stdout",
          "text": [
            "Drive already mounted at /content/drive; to attempt to forcibly remount, call drive.mount(\"/content/drive\", force_remount=True).\n"
          ]
        }
      ],
      "source": [
        "import numpy as np\n",
        "import os\n",
        "import struct\n",
        "import itertools\n",
        "import matplotlib.pyplot as plt\n",
        "\n",
        "import jax, optax\n",
        "from jax import random, numpy as jnp\n",
        "from flax import linen as nn\n",
        "from flax.training import train_state\n",
        "from flax.core.frozen_dict import freeze, unfreeze\n",
        "\n",
        "from google.colab import drive\n",
        "drive.mount('/content/drive')\n",
        "os.chdir('/content/drive/My Drive/jax_cnn/')\n",
        "\n",
        "from read import fw_to_np"
      ]
    },
    {
      "cell_type": "code",
      "source": [
        "u, v, w, p, t, icount, x, y, z = fw_to_np('data')"
      ],
      "metadata": {
        "id": "lD9ZwAIZoazM"
      },
      "execution_count": null,
      "outputs": []
    },
    {
      "cell_type": "code",
      "source": [
        "# check size\n",
        "print(np.shape(u))\n",
        "print(np.shape(v))\n",
        "print(np.shape(w))\n",
        "print(np.shape(p))\n",
        "print(np.shape(t))\n",
        "print(np.shape(icount))\n",
        "print(np.shape(x))\n",
        "print(np.shape(y))\n",
        "print(np.shape(z))"
      ],
      "metadata": {
        "colab": {
          "base_uri": "https://localhost:8080/"
        },
        "id": "nYp7kBs9k-uq",
        "outputId": "a9d251da-79b7-469b-ad7f-fa59e718568f"
      },
      "execution_count": null,
      "outputs": [
        {
          "output_type": "stream",
          "name": "stdout",
          "text": [
            "(80, 105, 15)\n",
            "(79, 106, 15)\n",
            "(79, 105, 16)\n",
            "(79, 105, 15)\n",
            "(79, 105, 15)\n",
            "()\n",
            "(80,)\n",
            "(106,)\n",
            "(16,)\n"
          ]
        }
      ]
    },
    {
      "cell_type": "code",
      "source": [
        "filter0 = np.random.standard_normal((5,5,5))\n",
        "filter1 = np.random.standard_normal((5,5,5))\n",
        "\n",
        "filter_array = np.zeros([5, 5, 5, 2])\n",
        "filter_array[:, :, :, 0] = filter0\n",
        "filter_array[:, :, :, 1] = filter1"
      ],
      "metadata": {
        "id": "qvviKRndSQtm"
      },
      "execution_count": null,
      "outputs": []
    },
    {
      "cell_type": "code",
      "source": [
        "class FixedConvFilterModel(nn.Module):\n",
        "    @nn.compact\n",
        "    def __call__(self, x, apply_pooling=False):\n",
        "        Nx = 10\n",
        "        Ny = 10\n",
        "        Nz = 10\n",
        "        x = x.reshape([-1, Nx, Ny, Nz, 1])\n",
        "        x = nn.Conv(features=2, kernel_size=(5, 5, 5), use_bias=False)(x)\n",
        "        x = jnp.abs(x)\n",
        "        x = nn.relu(x-0.2)\n",
        "        if apply_pooling:\n",
        "            x = nn.max_pool(x, window_shape=(2, 2, 2), strides=(2, 2, 2))\n",
        "        return x"
      ],
      "metadata": {
        "id": "F3OjWXfySlSt"
      },
      "execution_count": null,
      "outputs": []
    },
    {
      "cell_type": "code",
      "source": [
        "key, key1 = random.split(random.PRNGKey(0))\n",
        "variables = FixedConvFilterModel().init(key1, images[0:1])\n",
        "\n",
        "jax.tree_util.tree_map(lambda x: x.shape, variables['params'])"
      ],
      "metadata": {
        "id": "WWdbKNRxS6pf"
      },
      "execution_count": null,
      "outputs": []
    },
    {
      "cell_type": "code",
      "source": [
        "params = unfreeze(variables['params'])\n",
        "params['Conv_0']['kernel'] = jnp.asarray(filter_array)\n",
        "new_params = freeze(params)\n",
        "\n",
        "state = train_state.TrainState.create(\n",
        "    apply_fn=FixedConvFilterModel().apply,\n",
        "    params=new_params,\n",
        "    tx=optax.adam(learning_rate=0.001))"
      ],
      "metadata": {
        "id": "KFmgkLPES7Rx"
      },
      "execution_count": null,
      "outputs": []
    },
    {
      "cell_type": "code",
      "source": [
        "conv_output = jax.device_get(\n",
        "    state.apply_fn({'params': state.params}, images[:]))\n",
        "filter_vals = jax.device_get(state.params['Conv_0']['kernel'])"
      ],
      "metadata": {
        "id": "S5OKV3OPUdWp"
      },
      "execution_count": null,
      "outputs": []
    },
    {
      "cell_type": "code",
      "source": [],
      "metadata": {
        "id": "phX3M3BQVUK7"
      },
      "execution_count": null,
      "outputs": []
    }
  ]
}
