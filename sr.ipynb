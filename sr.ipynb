{
  "nbformat": 4,
  "nbformat_minor": 0,
  "metadata": {
    "colab": {
      "provenance": [],
      "gpuType": "T4"
    },
    "kernelspec": {
      "name": "python3",
      "display_name": "Python 3"
    },
    "language_info": {
      "name": "python"
    }
  },
  "cells": [
    {
      "cell_type": "code",
      "execution_count": 1,
      "metadata": {
        "id": "l2yMUy1lRuoG",
        "colab": {
          "base_uri": "https://localhost:8080/"
        },
        "outputId": "3dc8dc93-0254-4f6f-9e1b-7f6198b6d00b"
      },
      "outputs": [
        {
          "output_type": "stream",
          "name": "stdout",
          "text": [
            "Cloning into 'da-sr'...\n",
            "remote: Enumerating objects: 19, done.\u001b[K\n",
            "remote: Counting objects: 100% (19/19), done.\u001b[K\n",
            "remote: Compressing objects: 100% (17/17), done.\u001b[K\n",
            "remote: Total 19 (delta 6), reused 0 (delta 0), pack-reused 0\u001b[K\n",
            "Receiving objects: 100% (19/19), 9.97 MiB | 10.69 MiB/s, done.\n",
            "Resolving deltas: 100% (6/6), done.\n"
          ]
        }
      ],
      "source": [
        "import numpy as np\n",
        "import os\n",
        "#import struct\n",
        "#import itertools\n",
        "import matplotlib.pyplot as plt\n",
        "\n",
        "import jax, optax\n",
        "from jax import random, numpy as jnp\n",
        "from flax import linen as nn\n",
        "from flax.training import train_state\n",
        "from flax.core.frozen_dict import freeze, unfreeze\n",
        "\n",
        "!git clone https://github.com/htymjun/da-sr\n",
        "os.chdir('/content/da-sr')\n",
        "\n",
        "from read import fw_to_np"
      ]
    },
    {
      "cell_type": "code",
      "source": [
        "u, v, w, p, t, icount, x, y, z = fw_to_np('data')"
      ],
      "metadata": {
        "id": "lD9ZwAIZoazM"
      },
      "execution_count": 2,
      "outputs": []
    },
    {
      "cell_type": "code",
      "source": [
        "# check size\n",
        "print(np.shape(u))\n",
        "print(np.shape(v))\n",
        "print(np.shape(w))\n",
        "print(np.shape(p))\n",
        "\n",
        "print(np.shape(x))\n",
        "print(np.shape(y))\n",
        "print(np.shape(z))"
      ],
      "metadata": {
        "colab": {
          "base_uri": "https://localhost:8080/"
        },
        "id": "nYp7kBs9k-uq",
        "outputId": "540b0c27-8bcf-4b93-ef9e-22085273eca2"
      },
      "execution_count": 3,
      "outputs": [
        {
          "output_type": "stream",
          "name": "stdout",
          "text": [
            "(201, 100, 20)\n",
            "(200, 101, 20)\n",
            "(200, 100, 21)\n",
            "(200, 100, 20)\n",
            "(201,)\n",
            "(101,)\n",
            "(21,)\n"
          ]
        }
      ]
    },
    {
      "cell_type": "code",
      "source": [
        "# interpolate\n",
        "uc = 0.5*(u[:-1,:,:]+u[1:,:,:])\n",
        "vc = 0.5*(v[:,:-1,:]+v[:,1:,:])\n",
        "wc = 0.5*(w[:,:,:-1]+w[:,:,1:])\n",
        "xc = 0.5*(x[:-1]+x[1:])\n",
        "yc = 0.5*(y[:-1]+y[1:])\n",
        "zc = 0.5*(z[:-1]+z[1:])"
      ],
      "metadata": {
        "id": "wEW_jxY1nvqW"
      },
      "execution_count": 4,
      "outputs": []
    },
    {
      "cell_type": "code",
      "source": [
        "\n",
        "\n",
        "fig, ax = plt.subplots()\n",
        "tcf = ax.contourf(xc, yc, p)\n",
        "fig.colorbar(tcf)"
      ],
      "metadata": {
        "id": "DOfoPs5qnbwW"
      },
      "execution_count": null,
      "outputs": []
    },
    {
      "cell_type": "code",
      "source": [
        "filter0 = np.random.standard_normal((5,5,5))\n",
        "filter1 = np.random.standard_normal((5,5,5))\n",
        "\n",
        "filter_array = np.zeros([5, 5, 5, 2])\n",
        "filter_array[:, :, :, 0] = filter0\n",
        "filter_array[:, :, :, 1] = filter1"
      ],
      "metadata": {
        "id": "qvviKRndSQtm"
      },
      "execution_count": null,
      "outputs": []
    },
    {
      "cell_type": "code",
      "source": [
        "class FixedConvFilterModel(nn.Module):\n",
        "    @nn.compact\n",
        "    def __call__(self, x, apply_pooling=False):\n",
        "        Nx = 10\n",
        "        Ny = 10\n",
        "        Nz = 10\n",
        "        x = x.reshape([-1, Nx, Ny, Nz, 1])\n",
        "        x = nn.Conv(features=2, kernel_size=(5, 5, 5), use_bias=False)(x)\n",
        "        x = jnp.abs(x)\n",
        "        x = nn.relu(x-0.2)\n",
        "        if apply_pooling:\n",
        "            x = nn.max_pool(x, window_shape=(2, 2, 2), strides=(2, 2, 2))\n",
        "        return x"
      ],
      "metadata": {
        "id": "F3OjWXfySlSt"
      },
      "execution_count": null,
      "outputs": []
    },
    {
      "cell_type": "code",
      "source": [
        "key, key1 = random.split(random.PRNGKey(0))\n",
        "variables = FixedConvFilterModel().init(key1, images[0:1])\n",
        "\n",
        "jax.tree_util.tree_map(lambda x: x.shape, variables['params'])"
      ],
      "metadata": {
        "id": "WWdbKNRxS6pf"
      },
      "execution_count": null,
      "outputs": []
    },
    {
      "cell_type": "code",
      "source": [
        "params = unfreeze(variables['params'])\n",
        "params['Conv_0']['kernel'] = jnp.asarray(filter_array)\n",
        "new_params = freeze(params)\n",
        "\n",
        "state = train_state.TrainState.create(\n",
        "    apply_fn=FixedConvFilterModel().apply,\n",
        "    params=new_params,\n",
        "    tx=optax.adam(learning_rate=0.001))"
      ],
      "metadata": {
        "id": "KFmgkLPES7Rx"
      },
      "execution_count": null,
      "outputs": []
    },
    {
      "cell_type": "code",
      "source": [
        "conv_output = jax.device_get(\n",
        "    state.apply_fn({'params': state.params}, images[:]))\n",
        "filter_vals = jax.device_get(state.params['Conv_0']['kernel'])"
      ],
      "metadata": {
        "id": "S5OKV3OPUdWp"
      },
      "execution_count": null,
      "outputs": []
    },
    {
      "cell_type": "code",
      "source": [],
      "metadata": {
        "id": "phX3M3BQVUK7"
      },
      "execution_count": null,
      "outputs": []
    }
  ]
}