{
  "nbformat": 4,
  "nbformat_minor": 0,
  "metadata": {
    "colab": {
      "provenance": [],
      "gpuType": "T4"
    },
    "kernelspec": {
      "name": "python3",
      "display_name": "Python 3"
    },
    "language_info": {
      "name": "python"
    }
  },
  "cells": [
    {
      "cell_type": "code",
      "execution_count": 23,
      "metadata": {
        "id": "l2yMUy1lRuoG",
        "colab": {
          "base_uri": "https://localhost:8080/"
        },
        "outputId": "6d37ea49-956c-4a7f-9a39-784158c96062"
      },
      "outputs": [
        {
          "output_type": "stream",
          "name": "stdout",
          "text": [
            "Cloning into 'da-sr'...\n",
            "remote: Enumerating objects: 34, done.\u001b[K\n",
            "remote: Counting objects: 100% (34/34), done.\u001b[K\n",
            "remote: Compressing objects: 100% (31/31), done.\u001b[K\n",
            "remote: Total 34 (delta 13), reused 0 (delta 0), pack-reused 0\u001b[K\n",
            "Receiving objects: 100% (34/34), 9.98 MiB | 13.76 MiB/s, done.\n",
            "Resolving deltas: 100% (13/13), done.\n"
          ]
        }
      ],
      "source": [
        "import numpy as np\n",
        "import os\n",
        "import matplotlib.pyplot as plt\n",
        "\n",
        "import jax, optax\n",
        "from jax import random, numpy as jnp\n",
        "from flax import linen as nn\n",
        "from flax.training import train_state\n",
        "from flax.core.frozen_dict import freeze, unfreeze\n",
        "\n",
        "!git clone https://github.com/htymjun/da-sr\n",
        "os.chdir('/content/da-sr')\n",
        "\n",
        "from read import fw_to_np"
      ]
    },
    {
      "cell_type": "code",
      "source": [
        "# read cn and fw files\n",
        "u, v, w, p, t, icount, x, y, z = fw_to_np('data')\n",
        "# interpolate\n",
        "uc = 0.5e0*(u[:-1,:,:]+u[1:,:,:])\n",
        "vc = 0.5e0*(v[:,:-1,:]+v[:,1:,:])\n",
        "wc = 0.5e0*(w[:,:,:-1]+w[:,:,1:])\n",
        "xc = 0.5e0*(x[:-1]+x[1:])\n",
        "yc = 0.5e0*(y[:-1]+y[1:])\n",
        "zc = 0.5e0*(z[:-1]+z[1:])"
      ],
      "metadata": {
        "id": "wEW_jxY1nvqW"
      },
      "execution_count": 24,
      "outputs": []
    },
    {
      "cell_type": "code",
      "source": [
        "Nz = int(0.5*len(zc))\n",
        "U = np.sqrt(uc[:,:,Nz]**2+vc[:,:,Nz]**2)\n",
        "Xc, Yc = np.meshgrid(xc,yc)\n",
        "\n",
        "fig, ax = plt.subplots()\n",
        "tcf = ax.contourf(Xc, Yc, np.transpose(U))\n",
        "fig.colorbar(tcf)"
      ],
      "metadata": {
        "colab": {
          "base_uri": "https://localhost:8080/",
          "height": 453
        },
        "id": "DOfoPs5qnbwW",
        "outputId": "1ae9cea3-de1e-4d2d-858a-dbae2c304c36"
      },
      "execution_count": 25,
      "outputs": [
        {
          "output_type": "execute_result",
          "data": {
            "text/plain": [
              "<matplotlib.colorbar.Colorbar at 0x7aa777873940>"
            ]
          },
          "metadata": {},
          "execution_count": 25
        },
        {
          "output_type": "display_data",
          "data": {
            "text/plain": [
              "<Figure size 640x480 with 2 Axes>"
            ],
            "image/png": "[encoded data removed]"
          },
          "metadata": {}
        }
      ]
    },
    {
      "cell_type": "code",
      "source": [
        "# set_batch\n",
        "Nx = 5\n",
        "Ny = 5\n",
        "ub = uc[:,:,Nz].reshape(-1,5,5)\n",
        "vb = vc[:,:,Nz].reshape(-1,5,5)\n",
        "x = np.stack([ub,vb], axis=-1)\n",
        "\n",
        "# normalize\n",
        "N = len(x[:,0,0,0])\n",
        "ave = np.zeros(N)\n",
        "for i in range(N):\n",
        "  ave[i] = 0.5e0*(x[i,:,:,0].mean()+x[i,:,:,1].mean())\n",
        "  x[i,:,:,0] = np.divide(x[i,:,:,0],ave[i])\n",
        "  x[i,:,:,1] = np.divide(x[i,:,:,1],ave[i])"
      ],
      "metadata": {
        "id": "JFPYC48-WPbg"
      },
      "execution_count": 101,
      "outputs": []
    },
    {
      "cell_type": "code",
      "source": [
        "class ConvolutionLayer(nn.Module):\n",
        " filters: np.ndarray\n",
        "\n",
        " @nn.compact\n",
        " def __call__(self, x):\n",
        "     x = nn.Conv(features=self.filters.shape[-1], kernel_size=(3,3), strides=(1, 1), padding='SAME')(x)\n",
        "     return x"
      ],
      "metadata": {
        "id": "-Huv6XWafyv0"
      },
      "execution_count": 102,
      "outputs": []
    },
    {
      "cell_type": "code",
      "source": [
        "# the group p4m\n",
        "def p4m(m,r,u,v):\n",
        "  g = np.zeros([3,3])\n",
        "  m = float(m)\n",
        "  r = float(r)\n",
        "  u = float(u)\n",
        "  v = float(v)\n",
        "  theta = 0.5e0*np.mod(r,4.e0)*np.pi\n",
        "  g = [[(-1.e0)**m*np.cos(theta),-(-1.e0)**m*np.sin(theta),   u],\n",
        "      [            np.sin(theta),            np.cos(theta),   v],\n",
        "      [                     0.e0,                     0.e0,1.e0]]\n",
        "  return g"
      ],
      "metadata": {
        "id": "3AzeCHJ7yhAx"
      },
      "execution_count": 168,
      "outputs": []
    },
    {
      "cell_type": "code",
      "source": [
        "# visualize\n",
        "Xc, Yc = np.meshgrid(np.linspace(0,1,3),np.linspace(0,1,3))\n",
        "\n",
        "fig, axes = plt.subplots(2,4)\n",
        "for i in range(4):\n",
        "  tcf = axes[0,i].contourf(Xc,Yc,p4m(0,i,0,0))\n",
        "  axes[0,i].set_aspect('equal')\n",
        "  axes[0,i].set_xticklabels([])\n",
        "  axes[0,i].set_yticklabels([])\n",
        "for i in range(4):\n",
        "  tcf = axes[1,i].contourf(Xc,Yc,np.matmul(p4m(0,1,0,0),p4m(0,i,0,0)))\n",
        "  axes[1,i].set_aspect('equal')\n",
        "  axes[1,i].set_xticklabels([])\n",
        "  axes[1,i].set_yticklabels([])"
      ],
      "metadata": {
        "colab": {
          "base_uri": "https://localhost:8080/",
          "height": 351
        },
        "id": "32x0WWEDqgux",
        "outputId": "b77eac9f-ee51-412c-ed61-43f343f10d13"
      },
      "execution_count": 169,
      "outputs": [
        {
          "output_type": "display_data",
          "data": {
            "text/plain": [
              "<Figure size 640x480 with 8 Axes>"
            ],
            "image/png": "[encoded data removed]"
          },
          "metadata": {}
        }
      ]
    },
    {
      "cell_type": "code",
      "source": [
        "# set filter\n",
        "Nf = 1\n",
        "filters = np.zeros([Nf,3,3])\n",
        "for i in range(Nf):\n",
        "  m = 0\n",
        "  r = 0\n",
        "  u = 0\n",
        "  v = 0\n",
        "  filters[i,:,:] = p4m(m,r,u,v)"
      ],
      "metadata": {
        "id": "QDU8ei19x4pJ"
      },
      "execution_count": 151,
      "outputs": []
    },
    {
      "cell_type": "code",
      "source": [
        "conv_layer = ConvolutionLayer(filters=filters)\n",
        "\n",
        "# initialize parameter\n",
        "rng = random.PRNGKey(0)\n",
        "variables = conv_layer.init(rng, x)\n",
        "\n",
        "# calc convolution\n",
        "output1 = conv_layer.apply(variables,np.rot90(x, axes=(1,2)))"
      ],
      "metadata": {
        "id": "3XK5IzY7f2f5"
      },
      "execution_count": 154,
      "outputs": []
    },
    {
      "cell_type": "code",
      "source": [
        "conv_layer = ConvolutionLayer(filters=filters)\n",
        "\n",
        "# initialize parameter\n",
        "rng = random.PRNGKey(0)\n",
        "variables = conv_layer.init(rng, x)\n",
        "\n",
        "# calc convolution\n",
        "output2 = np.rot90(conv_layer.apply(variables,x), axes=(1,2))"
      ],
      "metadata": {
        "id": "aTbhgrrMljmS"
      },
      "execution_count": 155,
      "outputs": []
    },
    {
      "cell_type": "code",
      "source": [
        "# visualize\n",
        "Xc, Yc = np.meshgrid(np.linspace(0,1,5),np.linspace(0,1,5))\n",
        "\n",
        "fig, axes = plt.subplots(1,2)\n",
        "tcf = axes[0].contourf(Xc, Yc, output1[0,:,:,0])\n",
        "axes[0].set_aspect('equal')\n",
        "axes[0].set_xticklabels([])\n",
        "axes[0].set_yticklabels([])\n",
        "tcf = axes[1].contourf(Xc, Yc, output2[0,:,:,0])\n",
        "axes[1].set_aspect('equal')\n",
        "axes[1].set_xticklabels([])\n",
        "axes[1].set_yticklabels([])"
      ],
      "metadata": {
        "colab": {
          "base_uri": "https://localhost:8080/",
          "height": 374
        },
        "id": "Mw4gfzTOV5Do",
        "outputId": "38dafc52-1e71-445f-9935-acbeb028b289"
      },
      "execution_count": 156,
      "outputs": [
        {
          "output_type": "execute_result",
          "data": {
            "text/plain": [
              "[Text(0, 0.0, ''),\n",
              " Text(0, 0.2, ''),\n",
              " Text(0, 0.4, ''),\n",
              " Text(0, 0.6000000000000001, ''),\n",
              " Text(0, 0.8, ''),\n",
              " Text(0, 1.0, '')]"
            ]
          },
          "metadata": {},
          "execution_count": 156
        },
        {
          "output_type": "display_data",
          "data": {
            "text/plain": [
              "<Figure size 640x480 with 2 Axes>"
            ],
            "image/png": "[encoded data removed]"
          },
          "metadata": {}
        }
      ]
    },
    {
      "cell_type": "code",
      "source": [],
      "metadata": {
        "id": "uVE2zloYe1sY"
      },
      "execution_count": null,
      "outputs": []
    }
  ]
}