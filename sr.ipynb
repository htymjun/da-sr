{
  "nbformat": 4,
  "nbformat_minor": 0,
  "metadata": {
    "colab": {
      "provenance": [],
      "gpuType": "T4"
    },
    "kernelspec": {
      "name": "python3",
      "display_name": "Python 3"
    },
    "language_info": {
      "name": "python"
    }
  },
  "cells": [
    {
      "cell_type": "code",
      "execution_count": 1,
      "metadata": {
        "id": "l2yMUy1lRuoG",
        "colab": {
          "base_uri": "https://localhost:8080/"
        },
        "outputId": "28ac7b5a-f637-4bcb-fdd5-edd01d06e94e"
      },
      "outputs": [
        {
          "output_type": "stream",
          "name": "stdout",
          "text": [
            "Cloning into 'da-sr'...\n",
            "remote: Enumerating objects: 43, done.\u001b[K\n",
            "remote: Counting objects: 100% (43/43), done.\u001b[K\n",
            "remote: Compressing objects: 100% (40/40), done.\u001b[K\n",
            "remote: Total 43 (delta 19), reused 0 (delta 0), pack-reused 0\u001b[K\n",
            "Receiving objects: 100% (43/43), 10.01 MiB | 19.38 MiB/s, done.\n",
            "Resolving deltas: 100% (19/19), done.\n"
          ]
        }
      ],
      "source": [
        "import numpy as np\n",
        "import os\n",
        "import matplotlib.pyplot as plt\n",
        "\n",
        "import jax, optax\n",
        "from jax import random, numpy as jnp\n",
        "from flax import linen as nn\n",
        "from flax.training import train_state\n",
        "from flax.core.frozen_dict import freeze, unfreeze\n",
        "\n",
        "!git clone https://github.com/htymjun/da-sr\n",
        "os.chdir('/content/da-sr')\n",
        "\n",
        "from read import fw_to_np"
      ]
    },
    {
      "cell_type": "code",
      "source": [
        "# read cn and fw files\n",
        "u, v, w, p, t, icount, x, y, z = fw_to_np('data')\n",
        "# interpolate\n",
        "uc = 0.5e0*(u[:-1,:,:]+u[1:,:,:])\n",
        "vc = 0.5e0*(v[:,:-1,:]+v[:,1:,:])\n",
        "wc = 0.5e0*(w[:,:,:-1]+w[:,:,1:])\n",
        "xc = 0.5e0*(x[:-1]+x[1:])\n",
        "yc = 0.5e0*(y[:-1]+y[1:])\n",
        "zc = 0.5e0*(z[:-1]+z[1:])"
      ],
      "metadata": {
        "id": "wEW_jxY1nvqW"
      },
      "execution_count": 2,
      "outputs": []
    },
    {
      "cell_type": "code",
      "source": [
        "Nz = int(0.5*len(zc))\n",
        "U = np.sqrt(uc[:,:,Nz]**2+vc[:,:,Nz]**2)\n",
        "Xc, Yc = np.meshgrid(xc,yc)\n",
        "\n",
        "fig, ax = plt.subplots()\n",
        "tcf = ax.contourf(Xc, Yc, np.transpose(U))\n",
        "fig.colorbar(tcf)"
      ],
      "metadata": {
        "colab": {
          "base_uri": "https://localhost:8080/",
          "height": 453
        },
        "id": "DOfoPs5qnbwW",
        "outputId": "74a0c9da-4071-4529-a42b-490fa6fbf471"
      },
      "execution_count": 3,
      "outputs": [
        {
          "output_type": "execute_result",
          "data": {
            "text/plain": [
              "<matplotlib.colorbar.Colorbar at 0x7d8669e6bf70>"
            ]
          },
          "metadata": {},
          "execution_count": 3
        },
        {
          "output_type": "display_data",
          "data": {
            "text/plain": [
              "<Figure size 640x480 with 2 Axes>"
            ],
            "image/png": "[encoded data removed]"
          },
          "metadata": {}
        }
      ]
    },
    {
      "cell_type": "code",
      "source": [
        "# set_batch\n",
        "Nx = 5\n",
        "Ny = 5\n",
        "ub = uc[:,:,Nz].reshape(-1,5,5)\n",
        "vb = vc[:,:,Nz].reshape(-1,5,5)\n",
        "x = np.stack([ub,vb], axis=-1)\n",
        "\n",
        "# normalize\n",
        "N = len(x[:,0,0,0])\n",
        "ave = np.zeros(N)\n",
        "for i in range(N):\n",
        "  ave[i] = 0.5e0*(x[i,:,:,0].mean()+x[i,:,:,1].mean())\n",
        "  x[i,:,:,0] = np.divide(x[i,:,:,0],ave[i])\n",
        "  x[i,:,:,1] = np.divide(x[i,:,:,1],ave[i])"
      ],
      "metadata": {
        "id": "JFPYC48-WPbg"
      },
      "execution_count": 4,
      "outputs": []
    },
    {
      "cell_type": "code",
      "source": [
        "class GCNN(nn.Module):\n",
        "  filters: jnp.ndarray\n",
        "\n",
        "  @nn.compact\n",
        "  def __call__(self, x):\n",
        "    # Z2-P4 conv\n",
        "    x1 = nn.Conv(features=jnp.rot90(self.filters, k=1, axes=(0,1)).shape[-1], kernel_size=(3,3), strides=(1, 1), padding='SAME')(x)\n",
        "    x2 = nn.Conv(features=jnp.rot90(self.filters, k=2, axes=(0,1)).shape[-1], kernel_size=(3,3), strides=(1, 1), padding='SAME')(x)\n",
        "    x3 = nn.Conv(features=jnp.rot90(self.filters, k=3, axes=(0,1)).shape[-1], kernel_size=(3,3), strides=(1, 1), padding='SAME')(x)\n",
        "    x4 = nn.Conv(features=jnp.rot90(self.filters, k=4, axes=(0,1)).shape[-1], kernel_size=(3,3), strides=(1, 1), padding='SAME')(x)\n",
        "    # P4-P4 conv\n",
        "\n",
        "    # max pooling\n",
        "    x1 = nn.max_pool(x1, window_shape=(2,2), strides=(2,2), padding='SAME')\n",
        "    x2 = nn.max_pool(x2, window_shape=(2,2), strides=(2,2), padding='SAME')\n",
        "    x3 = nn.max_pool(x3, window_shape=(2,2), strides=(2,2), padding='SAME')\n",
        "    x4 = nn.max_pool(x4, window_shape=(2,2), strides=(2,2), padding='SAME')\n",
        "\n",
        "    x = jnp.maximum(x1,x2)\n",
        "    x = jnp.maximum(x,x3)\n",
        "    x = jnp.maximum(x,x4)\n",
        "    return x"
      ],
      "metadata": {
        "id": "-Huv6XWafyv0"
      },
      "execution_count": 107,
      "outputs": []
    },
    {
      "cell_type": "code",
      "source": [
        "# initialize model\n",
        "key = random.PRNGKey(0)\n",
        "filter_shape = (5,5,2)  # filter_shape(height,width,input_channels,output_channels)\n",
        "filters = random.normal(key, shape=filter_shape)\n",
        "model = GCNN(filters)\n",
        "\n",
        "params = model.init(key, jnp.ones_like(x[:,:,:,:])) # x(batch,height,width,channel)\n",
        "\n",
        "# calc convolution\n",
        "output1 = model.apply(params,np.rot90(x, axes=(1,2)))\n",
        "\n",
        "# initialize filters\n",
        "filters = random.normal(key, shape=filter_shape)\n",
        "model = GCNN(filters)\n",
        "\n",
        "# initialize parameter\n",
        "params = model.init(key, jnp.ones_like(x)) # x (batch,height,width,channel)\n",
        "\n",
        "# calc convolution\n",
        "output2 = np.rot90(model.apply(params,x), axes=(1,2))"
      ],
      "metadata": {
        "id": "aTbhgrrMljmS"
      },
      "execution_count": 115,
      "outputs": []
    },
    {
      "cell_type": "code",
      "source": [
        "# visualize\n",
        "Xc, Yc = np.meshgrid(np.linspace(0,1,3),np.linspace(0,1,3))\n",
        "\n",
        "fig, axes = plt.subplots(1,2)\n",
        "tcf = axes[0].contourf(Xc, Yc, output1[0,:,:,0])\n",
        "axes[0].set_aspect('equal')\n",
        "axes[0].set_xticklabels([])\n",
        "axes[0].set_yticklabels([])\n",
        "tcf = axes[1].contourf(Xc, Yc, output2[0,:,:,0])\n",
        "axes[1].set_aspect('equal')\n",
        "axes[1].set_xticklabels([])\n",
        "axes[1].set_yticklabels([])"
      ],
      "metadata": {
        "colab": {
          "base_uri": "https://localhost:8080/",
          "height": 374
        },
        "id": "Mw4gfzTOV5Do",
        "outputId": "afa21a80-6494-4969-80f1-67bb5d3c4562"
      },
      "execution_count": 116,
      "outputs": [
        {
          "output_type": "execute_result",
          "data": {
            "text/plain": [
              "[Text(0, 0.0, ''),\n",
              " Text(0, 0.2, ''),\n",
              " Text(0, 0.4, ''),\n",
              " Text(0, 0.6000000000000001, ''),\n",
              " Text(0, 0.8, ''),\n",
              " Text(0, 1.0, '')]"
            ]
          },
          "metadata": {},
          "execution_count": 116
        },
        {
          "output_type": "display_data",
          "data": {
            "text/plain": [
              "<Figure size 640x480 with 2 Axes>"
            ],
            "image/png": "[encoded data removed]"
          },
          "metadata": {}
        }
      ]
    },
    {
      "cell_type": "code",
      "source": [],
      "metadata": {
        "id": "AyXUy99nROoe"
      },
      "execution_count": null,
      "outputs": []
    }
  ]
}