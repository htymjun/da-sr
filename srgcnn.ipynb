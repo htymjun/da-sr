{
  "nbformat": 4,
  "nbformat_minor": 0,
  "metadata": {
    "colab": {
      "provenance": [],
      "gpuType": "T4"
    },
    "kernelspec": {
      "name": "python3",
      "display_name": "Python 3"
    },
    "language_info": {
      "name": "python"
    }
  },
  "cells": [
    {
      "cell_type": "code",
      "execution_count": 2,
      "metadata": {
        "id": "l2yMUy1lRuoG",
        "colab": {
          "base_uri": "https://localhost:8080/"
        },
        "outputId": "55d44761-f45e-4385-9e5e-70d45078ebd5"
      },
      "outputs": [
        {
          "output_type": "stream",
          "name": "stdout",
          "text": [
            "Cloning into 'da-sr'...\n",
            "remote: Enumerating objects: 60, done.\u001b[K\n",
            "remote: Counting objects: 100% (60/60), done.\u001b[K\n",
            "remote: Compressing objects: 100% (57/57), done.\u001b[K\n",
            "remote: Total 60 (delta 31), reused 0 (delta 0), pack-reused 0\u001b[K\n",
            "Receiving objects: 100% (60/60), 10.04 MiB | 8.32 MiB/s, done.\n",
            "Resolving deltas: 100% (31/31), done.\n"
          ]
        }
      ],
      "source": [
        "import numpy as np\n",
        "import os\n",
        "import matplotlib.pyplot as plt\n",
        "import torch\n",
        "import torch.nn as nn\n",
        "import torch.nn.functional as F\n",
        "\n",
        "!git clone https://github.com/htymjun/da-sr\n",
        "os.chdir('/content/da-sr')\n",
        "\n",
        "from read import fw_to_np"
      ]
    },
    {
      "cell_type": "code",
      "source": [
        "# read cn and fw files\n",
        "u, v, w, p, t, icount, x, y, z = fw_to_np('data')\n",
        "# interpolate\n",
        "uc = 0.5e0*(u[:-1,:,:]+u[1:,:,:])\n",
        "vc = 0.5e0*(v[:,:-1,:]+v[:,1:,:])\n",
        "wc = 0.5e0*(w[:,:,:-1]+w[:,:,1:])\n",
        "xc = 0.5e0*(x[:-1]+x[1:])\n",
        "yc = 0.5e0*(y[:-1]+y[1:])\n",
        "zc = 0.5e0*(z[:-1]+z[1:])"
      ],
      "metadata": {
        "id": "wEW_jxY1nvqW"
      },
      "execution_count": 3,
      "outputs": []
    },
    {
      "cell_type": "code",
      "source": [
        "Nz = int(0.5*len(zc))\n",
        "U = np.sqrt(uc[:,:,Nz]**2+vc[:,:,Nz]**2)\n",
        "Xc, Yc = np.meshgrid(xc,yc)\n",
        "\n",
        "fig, ax = plt.subplots()\n",
        "tcf = ax.contourf(Xc, Yc, np.transpose(U))\n",
        "fig.colorbar(tcf)"
      ],
      "metadata": {
        "colab": {
          "base_uri": "https://localhost:8080/",
          "height": 453
        },
        "id": "DOfoPs5qnbwW",
        "outputId": "ad3dcb85-ac7c-42c3-b089-370b76175970"
      },
      "execution_count": 4,
      "outputs": [
        {
          "output_type": "execute_result",
          "data": {
            "text/plain": [
              "<matplotlib.colorbar.Colorbar at 0x7fa0d751ee90>"
            ]
          },
          "metadata": {},
          "execution_count": 4
        },
        {
          "output_type": "display_data",
          "data": {
            "text/plain": [
              "<Figure size 640x480 with 2 Axes>"
            ],
            "image/png": "[encoded data removed]"
          },
          "metadata": {}
        }
      ]
    },
    {
      "cell_type": "code",
      "source": [
        "# set_batch\n",
        "Nx = 10\n",
        "Ny = 10\n",
        "ub = uc[:,:,Nz].reshape(-1,Nx,Ny)\n",
        "vb = vc[:,:,Nz].reshape(-1,Nx,Ny)\n",
        "x = np.stack([ub,vb], axis=-1)\n",
        "x = np.swapaxes(x, 1,3) # x[batch_size,channel,height,width]\n",
        "\n",
        "# normalize\n",
        "N = len(x[:,0,0,0]) # N : batch_size\n",
        "ave = np.zeros(N)\n",
        "for i in range(N):\n",
        "  ave[i] = 0.5e0*(x[i,0,:,:].mean()+x[i,1,:,:].mean())\n",
        "  x[i,0,:,:] = np.divide(x[i,0,:,:],ave[i])\n",
        "  x[i,1,:,:] = np.divide(x[i,1,:,:],ave[i])"
      ],
      "metadata": {
        "id": "JFPYC48-WPbg"
      },
      "execution_count": 125,
      "outputs": []
    },
    {
      "cell_type": "code",
      "source": [
        "class RotatedConv1(nn.Module):\n",
        "  def __init__(self, in_channels, out_channels, kernel_size, stride=1, padding=0):\n",
        "    super(RotatedConv1, self).__init__()\n",
        "    self.conv = nn.Conv2d(in_channels, out_channels, kernel_size, stride=stride, padding=padding)\n",
        "\n",
        "  def rotate_filter(self, k):\n",
        "    return torch.rot90(self.conv.weight, k, dims=(2, 3))\n",
        "\n",
        "  def forward(self, x):\n",
        "    x1 = F.conv2d(x, self.rotate_filter(1), stride=1, padding=0)\n",
        "    x2 = F.conv2d(x, self.rotate_filter(2), stride=1, padding=0)\n",
        "    x3 = F.conv2d(x, self.rotate_filter(3), stride=1, padding=0)\n",
        "    x4 = F.conv2d(x, self.rotate_filter(4), stride=1, padding=0)\n",
        "    return x1,x2,x3,x4\n",
        "\n",
        "class GCNN(nn.Module):\n",
        "  def __init__(self):\n",
        "    super(GCNN, self).__init__()\n",
        "  def forward(self, x):\n",
        "    # Z2-P4 conv\n",
        "    x1,x2,x3,x4 = RotatedConv1(in_channels=2, out_channels=2, kernel_size=3)(x)\n",
        "\n",
        "    # pooling\n",
        "    x1 = F.max_pool2d(x1, kernel_size=2, stride=1, padding=0)\n",
        "    x2 = F.max_pool2d(x2, kernel_size=2, stride=1, padding=0)\n",
        "    x3 = F.max_pool2d(x3, kernel_size=2, stride=1, padding=0)\n",
        "    x4 = F.max_pool2d(x4, kernel_size=2, stride=1, padding=0)\n",
        "    print(\"x1\")\n",
        "    print(x1[0,0,:,:])\n",
        "    print(\"x2\")\n",
        "    print(x2[0,0,:,:])\n",
        "    print(\"x3\")\n",
        "    print(x3[0,0,:,:])\n",
        "    print(\"x4\")\n",
        "    print(x4[0,0,:,:])\n",
        "    x = torch.max(torch.max(x1,x2),torch.max(x3,x4))\n",
        "    return x"
      ],
      "metadata": {
        "id": "VJTbb6vGoLvp"
      },
      "execution_count": 126,
      "outputs": []
    },
    {
      "cell_type": "code",
      "source": [
        "X = torch.tensor(x)                 # x[batch_size,channel,height,width]\n",
        "\n",
        "# initialize model\n",
        "model = GCNN()\n",
        "print(\"original\")\n",
        "x1 = model(torch.rot90(X,dims=(2,3))) # rotate input 90 degree\n",
        "print(\"rotated\")\n",
        "x2 = model(X)\n",
        "X1 = x1.detach().numpy()\n",
        "X2 = x2.detach().numpy()"
      ],
      "metadata": {
        "id": "ZOZjCTJywtSD",
        "outputId": "b3c9fdb9-6fd7-4713-aa84-6b42b8e2dc68",
        "colab": {
          "base_uri": "https://localhost:8080/"
        }
      },
      "execution_count": 127,
      "outputs": [
        {
          "output_type": "stream",
          "name": "stdout",
          "text": [
            "original\n",
            "x1\n",
            "tensor([[ 0.0540,  0.0164, -0.0170, -0.0294, -0.0072,  0.0159,  0.0402],\n",
            "        [ 0.4411,  0.4175,  0.3881,  0.3534,  0.3145,  0.2723,  0.2281],\n",
            "        [ 0.4411,  0.4518,  0.4617,  0.4699,  0.4756,  0.4782,  0.4782],\n",
            "        [ 0.4410,  0.4518,  0.4617,  0.4699,  0.4756,  0.4782,  0.4782],\n",
            "        [ 0.3421,  0.3421,  0.3500,  0.3598,  0.3703,  0.3815,  0.3931],\n",
            "        [ 0.3421,  0.3421,  0.3053,  0.3025,  0.3046,  0.3073,  0.3126],\n",
            "        [ 0.6032,  0.3771,  0.3506,  0.3432,  0.3368,  0.3297,  0.3197]],\n",
            "       grad_fn=<SliceBackward0>)\n",
            "x2\n",
            "tensor([[0.2727, 0.2667, 0.2585, 0.2480, 0.2352, 0.2204, 0.2042],\n",
            "        [0.2865, 0.2865, 0.2864, 0.2860, 0.2854, 0.2845, 0.2834],\n",
            "        [0.2865, 0.2865, 0.2864, 0.2860, 0.2854, 0.2845, 0.2834],\n",
            "        [0.2944, 0.2920, 0.2897, 0.2874, 0.2851, 0.2831, 0.2834],\n",
            "        [0.2944, 0.2920, 0.2937, 0.2975, 0.2991, 0.2994, 0.2994],\n",
            "        [0.8741, 0.6021, 0.3558, 0.3236, 0.3158, 0.3100, 0.3039],\n",
            "        [0.8741, 0.6021, 0.3558, 0.3236, 0.3158, 0.3100, 0.3051]],\n",
            "       grad_fn=<SliceBackward0>)\n",
            "x3\n",
            "tensor([[ 0.4355,  0.4549,  0.4687,  0.4777,  0.4833,  0.4859,  0.4859],\n",
            "        [ 0.0527,  0.0903,  0.1310,  0.1740,  0.2181,  0.2620,  0.3044],\n",
            "        [ 0.1434,  0.1180,  0.0914,  0.0643,  0.0370,  0.0102, -0.0154],\n",
            "        [ 0.3055,  0.2969,  0.2867,  0.2750,  0.2615,  0.2463,  0.2293],\n",
            "        [ 0.7082,  0.4976,  0.3642,  0.3454,  0.3395,  0.3348,  0.3303],\n",
            "        [ 0.7082,  0.4976,  0.3642,  0.3454,  0.3395,  0.3348,  0.3402],\n",
            "        [ 0.3660,  0.3660,  0.3046,  0.3156,  0.3238,  0.3315,  0.3402]],\n",
            "       grad_fn=<SliceBackward0>)\n",
            "x4\n",
            "tensor([[0.2948, 0.2906, 0.2927, 0.2978, 0.3011, 0.3027, 0.3027],\n",
            "        [0.2764, 0.2856, 0.2927, 0.2978, 0.3011, 0.3027, 0.3027],\n",
            "        [0.1350, 0.1415, 0.1547, 0.1698, 0.1863, 0.2035, 0.2206],\n",
            "        [0.2263, 0.2168, 0.2072, 0.1973, 0.1874, 0.1776, 0.1680],\n",
            "        [0.3472, 0.3472, 0.2867, 0.2751, 0.2703, 0.2649, 0.2586],\n",
            "        [0.4741, 0.3472, 0.3106, 0.3106, 0.3082, 0.3051, 0.3068],\n",
            "        [0.4741, 0.2994, 0.3106, 0.3110, 0.3173, 0.3256, 0.3584]],\n",
            "       grad_fn=<SliceBackward0>)\n",
            "rotated\n",
            "x1\n",
            "tensor([[ 0.3662,  0.3662, -0.7003, -0.4490, -0.1206, -0.0935, -0.0935],\n",
            "        [-0.1446, -0.1446, -0.6840, -0.4136, -0.1010, -0.1010, -0.1211],\n",
            "        [-0.6846, -0.6846, -0.6659, -0.3771, -0.0848, -0.0848, -0.1570],\n",
            "        [-0.7576, -0.7576, -0.6459, -0.3402, -0.0719, -0.0719, -0.2009],\n",
            "        [-0.7750, -0.7688, -0.6239, -0.3033, -0.0626, -0.0626, -0.2515],\n",
            "        [-0.7731, -0.7599, -0.5998, -0.2671, -0.0574, -0.0574, -0.3075],\n",
            "        [-0.7626, -0.7504, -0.5737, -0.2324, -0.0569, -0.0569, -0.3668]],\n",
            "       grad_fn=<SliceBackward0>)\n",
            "x2\n",
            "tensor([[ 0.2809,  0.2809, -0.7713, -0.6023, -0.3275, -0.2233, -0.2233],\n",
            "        [-0.1681, -0.1681, -0.7624, -0.5752, -0.3090, -0.2229, -0.2229],\n",
            "        [-0.7000, -0.7000, -0.7519, -0.5468, -0.2931, -0.2229, -0.2229],\n",
            "        [-0.7672, -0.7672, -0.7398, -0.5173, -0.2796, -0.2264, -0.2264],\n",
            "        [-0.7794, -0.7794, -0.7259, -0.4873, -0.2679, -0.2341, -0.2341],\n",
            "        [-0.7846, -0.7846, -0.7102, -0.4572, -0.2577, -0.2462, -0.2462],\n",
            "        [-0.7692, -0.7692, -0.6926, -0.4278, -0.2485, -0.2485, -0.2626]],\n",
            "       grad_fn=<SliceBackward0>)\n",
            "x3\n",
            "tensor([[-0.1573, -0.0694, -0.0694, -0.8419, -0.6038, -0.0886, -0.0886],\n",
            "        [-0.7349, -0.4819, -0.4819, -0.8476, -0.5532, -0.0658, -0.0658],\n",
            "        [-0.7638, -0.7582, -0.7582, -0.8364, -0.4981, -0.0516, -0.0516],\n",
            "        [-0.7742, -0.7742, -0.7948, -0.8215, -0.4399, -0.0453, -0.0453],\n",
            "        [-0.7781, -0.7830, -0.8049, -0.8034, -0.3799, -0.0453, -0.0453],\n",
            "        [-0.7608, -0.7900, -0.8122, -0.7815, -0.3199, -0.0459, -0.0459],\n",
            "        [-0.6876, -0.7983, -0.8185, -0.7556, -0.2621, -0.0520, -0.0520]],\n",
            "       grad_fn=<SliceBackward0>)\n",
            "x4\n",
            "tensor([[-0.2067, -0.7300, -0.7560, -0.6294, -0.3724, -0.2204, -0.2204],\n",
            "        [-0.6135, -0.7905, -0.7494, -0.6087, -0.3459, -0.2204, -0.2204],\n",
            "        [-0.7746, -0.7838, -0.7417, -0.5865, -0.3211, -0.2218, -0.2218],\n",
            "        [-0.7909, -0.7817, -0.7327, -0.5630, -0.2984, -0.2259, -0.2259],\n",
            "        [-0.7860, -0.7795, -0.7224, -0.5382, -0.2783, -0.2324, -0.2324],\n",
            "        [-0.7742, -0.7770, -0.7108, -0.5121, -0.2608, -0.2412, -0.2412],\n",
            "        [-0.7071, -0.7570, -0.6976, -0.4850, -0.2463, -0.2463, -0.2524]],\n",
            "       grad_fn=<SliceBackward0>)\n"
          ]
        }
      ]
    },
    {
      "cell_type": "code",
      "source": [
        "# visualize\n",
        "Xc, Yc = np.meshgrid(np.linspace(0,1,len(x1[0,0,0,:])),np.linspace(0,1,len(x1[0,0,:,0])))\n",
        "\n",
        "fig, axes = plt.subplots(1,2)\n",
        "tcf = axes[0].contourf(Xc, Yc, X1[0,0,:,:])\n",
        "axes[0].set_aspect('equal')\n",
        "tcf = axes[1].contourf(Xc, Yc, np.rot90(X2[0,0,:,:],k=1)) # rotate output 90 degree\n",
        "axes[1].set_aspect('equal')"
      ],
      "metadata": {
        "colab": {
          "base_uri": "https://localhost:8080/",
          "height": 291
        },
        "id": "Mw4gfzTOV5Do",
        "outputId": "ae6eadeb-b21d-4d38-c50f-71e8606f2faa"
      },
      "execution_count": 128,
      "outputs": [
        {
          "output_type": "display_data",
          "data": {
            "text/plain": [
              "<Figure size 640x480 with 2 Axes>"
            ],
            "image/png": "[encoded data removed]"
          },
          "metadata": {}
        }
      ]
    },
    {
      "cell_type": "code",
      "source": [],
      "metadata": {
        "id": "AyXUy99nROoe"
      },
      "execution_count": null,
      "outputs": []
    }
  ]
}