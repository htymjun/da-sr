{
  "nbformat": 4,
  "nbformat_minor": 0,
  "metadata": {
    "colab": {
      "provenance": [],
      "gpuType": "T4"
    },
    "kernelspec": {
      "name": "python3",
      "display_name": "Python 3"
    },
    "language_info": {
      "name": "python"
    },
    "accelerator": "GPU"
  },
  "cells": [
    {
      "cell_type": "code",
      "execution_count": 1,
      "metadata": {
        "id": "l2yMUy1lRuoG",
        "colab": {
          "base_uri": "https://localhost:8080/"
        },
        "outputId": "9db87077-c1af-40a8-ee52-634823f7a923"
      },
      "outputs": [
        {
          "output_type": "stream",
          "name": "stdout",
          "text": [
            "Cloning into 'da-sr'...\n",
            "remote: Enumerating objects: 91, done.\u001b[K\n",
            "remote: Counting objects: 100% (91/91), done.\u001b[K\n",
            "remote: Compressing objects: 100% (88/88), done.\u001b[K\n",
            "remote: Total 91 (delta 50), reused 0 (delta 0), pack-reused 0\u001b[K\n",
            "Receiving objects: 100% (91/91), 10.09 MiB | 6.94 MiB/s, done.\n",
            "Resolving deltas: 100% (50/50), done.\n"
          ]
        }
      ],
      "source": [
        "import numpy as np\n",
        "import random\n",
        "import os\n",
        "import matplotlib.pyplot as plt\n",
        "import cv2\n",
        "from sklearn.model_selection import train_test_split\n",
        "import torch\n",
        "import torch.nn as nn\n",
        "import torch.nn.functional as F\n",
        "from torch import optim\n",
        "\n",
        "!git clone https://github.com/htymjun/da-sr\n",
        "os.chdir('/content/da-sr')\n",
        "\n",
        "from read import fw_to_np"
      ]
    },
    {
      "cell_type": "code",
      "source": [
        "# read cn and fw files\n",
        "u, v, w, p, t, icount, x, y, z = fw_to_np('data')\n",
        "# interpolate\n",
        "uc = 0.5e0*(u[:-1,:,:]+u[1:,:,:])\n",
        "vc = 0.5e0*(v[:,:-1,:]+v[:,1:,:])\n",
        "wc = 0.5e0*(w[:,:,:-1]+w[:,:,1:])\n",
        "xc = 0.5e0*(x[:-1]+x[1:])\n",
        "yc = 0.5e0*(y[:-1]+y[1:])\n",
        "zc = 0.5e0*(z[:-1]+z[1:])"
      ],
      "metadata": {
        "id": "wEW_jxY1nvqW"
      },
      "execution_count": 2,
      "outputs": []
    },
    {
      "cell_type": "code",
      "source": [
        "Nx = 20   # height of highreso_data\n",
        "Ny = 20   # width of highreso_data\n",
        "\n",
        "nx = 10   # height of lowreso_data\n",
        "ny = 10   # width of lowreso_data\n",
        "\n",
        "# xh and xl are numpy array\n",
        "xh = np.empty([int(len(uc[0,0,:])*len(uc[0,:,0])*len(uc[:,0,0])/Nx/Ny),2,Nx,Ny])\n",
        "xl = np.empty_like(xh)\n",
        "\n",
        "b = 0\n",
        "for k in range(len(uc[0,0,:])):\n",
        "  for i in range(0,len(uc[:,0,0]),Nx):\n",
        "    for j in range(0,len(uc[0,:,0]),Ny):\n",
        "      # highreso_data\n",
        "      xh[b,0,:,:] = (uc[i:i+Nx,j:j+Ny,k]-np.mean(uc[:,:,:]))/np.std(uc[:,:,:])\n",
        "      xh[b,1,:,:] = (vc[i:i+Nx,j:j+Ny,k]-np.mean(vc[:,:,:]))/np.std(vc[:,:,:])\n",
        "      # lowreso_data\n",
        "      xl[b,0,:,:] = cv2.resize(cv2.resize(xh[b,0,:,:],(nx,ny),interpolation=cv2.INTER_NEAREST),(Nx,Ny),interpolation=cv2.INTER_NEAREST)\n",
        "      xl[b,1,:,:] = cv2.resize(cv2.resize(xh[b,1,:,:],(nx,ny),interpolation=cv2.INTER_NEAREST),(Nx,Ny),interpolation=cv2.INTER_NEAREST)\n",
        "      b += 1"
      ],
      "metadata": {
        "id": "ZXeQSkqUk1ZM"
      },
      "execution_count": 3,
      "outputs": []
    },
    {
      "cell_type": "code",
      "source": [
        "# define my dataset\n",
        "class Dataset(torch.utils.data.Dataset):\n",
        "  def __init__(self, highreso_data, lowreso_data):\n",
        "    self.data = torch.tensor(highreso_data,dtype=torch.float32)\n",
        "    self.targets = torch.tensor(lowreso_data,dtype=torch.float32)\n",
        "\n",
        "  def __len__(self):\n",
        "    return len(self.data)\n",
        "\n",
        "  def __getitem__(self, index):\n",
        "    x = self.data[index]\n",
        "    y = self.targets[index]\n",
        "    return x, y\n",
        "\n",
        "dataset = Dataset(xh,xl)  # xh and xl are numpy array\n",
        "train_dataset, test_dataset = train_test_split(dataset, test_size=0.2)\n",
        "\n",
        "print(\"train_dataset size: {}\".format(len(train_dataset)))\n",
        "print(\"test_dataset size: {}\".format(len(test_dataset)))\n",
        "\n",
        "# make dataloader\n",
        "train_batch = torch.utils.data.DataLoader(dataset=train_dataset,\n",
        "                                          batch_size=50,\n",
        "                                          shuffle=True,\n",
        "                                          num_workers=2)\n",
        "test_batch = torch.utils.data.DataLoader(dataset=test_dataset,\n",
        "                                         batch_size=50,\n",
        "                                         shuffle=False,\n",
        "                                         num_workers=2)\n",
        "\n",
        "# check minibacth_dataset\n",
        "for highreso_data, lowreso_data in train_batch:\n",
        "    print(\"batch highreso_data size: {}\".format(highreso_data.size()))  # batch size of highreso_data\n",
        "    print(\"highreso data size: {}\".format(highreso_data[0].size()))  # highreso_data size\n",
        "    print(\"batch lowreso_data size: {}\".format(lowreso_data.size()))  # batch size of lowreso_data\n",
        "    print(\"lowreso data size: {}\".format(lowreso_data[1].size()))  # lowreso_data size\n",
        "    break"
      ],
      "metadata": {
        "id": "JFPYC48-WPbg",
        "colab": {
          "base_uri": "https://localhost:8080/"
        },
        "outputId": "7dbead14-be4a-4207-91d8-ec45744dc147"
      },
      "execution_count": 4,
      "outputs": [
        {
          "output_type": "stream",
          "name": "stdout",
          "text": [
            "train_dataset size: 800\n",
            "test_dataset size: 200\n",
            "batch highreso_data size: torch.Size([50, 2, 20, 20])\n",
            "highreso data size: torch.Size([2, 20, 20])\n",
            "batch lowreso_data size: torch.Size([50, 2, 20, 20])\n",
            "lowreso data size: torch.Size([2, 20, 20])\n"
          ]
        }
      ]
    },
    {
      "cell_type": "code",
      "source": [
        "# display data\n",
        "def cat_imshow(nx, ny, highreso_data, lowreso_data):\n",
        "  plt.figure(figsize=(9, 7))\n",
        "  for i in range(nx*ny):  # display X * Y data\n",
        "    if i <= 3:\n",
        "      velocity = highreso_data[i]\n",
        "    elif i > 3 and i <= 7:\n",
        "      velocity = lowreso_data[i-4]\n",
        "    speed = np.sqrt(velocity[0,:,:]**2+velocity[1,:,:]**2)\n",
        "    speed = speed.numpy()  # from Tensor to ndarray\n",
        "    x = np.linspace(0,1,len(speed[:,0]))\n",
        "    y = np.linspace(0,1,len(speed[0,:]))\n",
        "    x, y = np.meshgrid(x,y)\n",
        "    plt.subplot(nx, ny, i+1)\n",
        "    plt.contourf(x, y, speed, cmap='turbo', levels=20)\n",
        "    plt.axis('equal')\n",
        "    plt.axis('off')  # delete scale\n",
        "    plt.subplots_adjust(wspace=0.1, hspace=0.1)\n",
        "  plt.show()\n",
        "\n",
        "# check data\n",
        "for highreso_data, lowreso_data in train_batch:\n",
        "  cat_imshow(2, 4, highreso_data, lowreso_data)\n",
        "  break"
      ],
      "metadata": {
        "colab": {
          "base_uri": "https://localhost:8080/",
          "height": 507
        },
        "id": "4U_4BRmk0Ct7",
        "outputId": "7f33017e-b6f9-47e0-8638-ea7fd33b807a"
      },
      "execution_count": 5,
      "outputs": [
        {
          "output_type": "display_data",
          "data": {
            "text/plain": [
              "<Figure size 900x700 with 8 Axes>"
            ],
            "image/png": "[encoded data removed]"
          },
          "metadata": {}
        }
      ]
    },
    {
      "cell_type": "code",
      "source": [
        "class RotatedConv1(nn.Module):\n",
        "  def __init__(self, in_channels, out_channels, kernel_size, stride, padding):\n",
        "    super(RotatedConv1, self).__init__()\n",
        "    self.conv = nn.Conv2d(in_channels, out_channels, kernel_size, stride, padding)\n",
        "    self.freeze_conv_parameters()\n",
        "    self.stride = stride\n",
        "    self.padding = padding\n",
        "\n",
        "  def rotate_filter(self, k):\n",
        "    return torch.rot90(self.conv.weight, k, dims=(2, 3))\n",
        "\n",
        "  def freeze_conv_parameters(self):\n",
        "    for param in self.conv.parameters():\n",
        "      param.requires_grad = False\n",
        "\n",
        "  def forward(self, x):\n",
        "    x1 = F.conv2d(x, self.rotate_filter(1), stride=self.stride, padding=self.padding)\n",
        "    x2 = F.conv2d(x, self.rotate_filter(2), stride=self.stride, padding=self.padding)\n",
        "    x3 = F.conv2d(x, self.rotate_filter(3), stride=self.stride, padding=self.padding)\n",
        "    x4 = F.conv2d(x, self.rotate_filter(4), stride=self.stride, padding=self.padding)\n",
        "\n",
        "    return x1,x2,x3,x4\n",
        "\n",
        "class RotatedConv(nn.Module):\n",
        "  def __init__(self, in_channels, out_channels, kernel_size, stride, padding):\n",
        "    super(RotatedConv, self).__init__()\n",
        "    self.conv = nn.Conv2d(in_channels, out_channels, kernel_size, stride, padding)\n",
        "    self.freeze_conv_parameters()\n",
        "    self.stride = stride\n",
        "    self.padding = padding\n",
        "\n",
        "  def rotate_filter(self, k):\n",
        "    return torch.rot90(self.conv.weight, k, dims=(2, 3))\n",
        "\n",
        "  def freeze_conv_parameters(self):\n",
        "    for param in self.conv.parameters():\n",
        "      param.requires_grad = False\n",
        "\n",
        "  def forward(self, x):\n",
        "    x1, x2, x3, x4 = x\n",
        "    x1 = F.conv2d(x1, self.rotate_filter(1), stride=self.stride, padding=self.padding)\n",
        "    x2 = F.conv2d(x2, self.rotate_filter(2), stride=self.stride, padding=self.padding)\n",
        "    x3 = F.conv2d(x3, self.rotate_filter(3), stride=self.stride, padding=self.padding)\n",
        "    x4 = F.conv2d(x4, self.rotate_filter(4), stride=self.stride, padding=self.padding)\n",
        "    return x1,x2,x3,x4\n",
        "\n",
        "class GCNN(nn.Module):\n",
        "  def __init__(self):\n",
        "    super(GCNN, self).__init__()\n",
        "    self.conv1 = RotatedConv1(in_channels=2, out_channels=64, kernel_size=9, stride=1, padding=4)\n",
        "    self.conv2 = RotatedConv(in_channels=64, out_channels=32, kernel_size=1, stride=1, padding=0)\n",
        "    self.conv3 = RotatedConv(in_channels=32, out_channels=2, kernel_size=5, stride=1, padding=2)\n",
        "  def forward(self, x):\n",
        "    # Z2-P4 conv\n",
        "    x1,x2,x3,x4 = self.conv1(x)\n",
        "    # P4-P4 conv\n",
        "    x1,x2,x3,x4 = self.conv2((x1,x2,x3,x4))\n",
        "    x1,x2,x3,x4 = self.conv3((x1,x2,x3,x4))\n",
        "    # pooling\n",
        "    x1 = F.max_pool2d(x1, kernel_size=2, stride=1, padding=0)\n",
        "    x2 = F.max_pool2d(x2, kernel_size=2, stride=1, padding=0)\n",
        "    x3 = F.max_pool2d(x3, kernel_size=2, stride=1, padding=0)\n",
        "    x4 = F.max_pool2d(x4, kernel_size=2, stride=1, padding=0)\n",
        "    x = torch.max(torch.max(x1,x2),torch.max(x3,x4))\n",
        "    # up-scaling\n",
        "    x = F.interpolate(x,size=(20,20), mode='bicubic',align_corners=False)\n",
        "    return x\n",
        "\n",
        "# use GPU\n",
        "device = torch.device('cuda' if torch.cuda.is_available() else 'cpu')\n",
        "net = GCNN().to(device)\n",
        "print(net)\n",
        "# check device\n",
        "print(\"Device: {}\".format(device))"
      ],
      "metadata": {
        "colab": {
          "base_uri": "https://localhost:8080/"
        },
        "id": "VJTbb6vGoLvp",
        "outputId": "70fa9334-450d-447b-9980-5d9763cbda3c"
      },
      "execution_count": 6,
      "outputs": [
        {
          "output_type": "stream",
          "name": "stdout",
          "text": [
            "GCNN(\n",
            "  (conv1): RotatedConv1(\n",
            "    (conv): Conv2d(2, 64, kernel_size=(9, 9), stride=(1, 1), padding=(4, 4))\n",
            "  )\n",
            "  (conv2): RotatedConv(\n",
            "    (conv): Conv2d(64, 32, kernel_size=(1, 1), stride=(1, 1))\n",
            "  )\n",
            "  (conv3): RotatedConv(\n",
            "    (conv): Conv2d(32, 2, kernel_size=(5, 5), stride=(1, 1), padding=(2, 2))\n",
            "  )\n",
            ")\n",
            "Device: cuda\n"
          ]
        }
      ]
    },
    {
      "cell_type": "code",
      "source": [
        "# define loss function\n",
        "criterion = nn.MSELoss()\n",
        "\n",
        "# define optimizer\n",
        "optimizer = optim.Adam(net.parameters())"
      ],
      "metadata": {
        "id": "QvgCYCHFR6pn"
      },
      "execution_count": 7,
      "outputs": []
    },
    {
      "cell_type": "code",
      "source": [
        "# make lists to store MSE\n",
        "train_loss_list = []\n",
        "test_loss_list = []\n",
        "\n",
        "# do machine learning\n",
        "epoch = 2\n",
        "for i in range(epoch):\n",
        "  # progress var\n",
        "  print('---------------------------------------------')\n",
        "  print(\"Epoch: {}/{}\".format(i+1, epoch))\n",
        "\n",
        "  # initialize loss\n",
        "  train_loss = 0\n",
        "  test_loss = 0\n",
        "\n",
        "  # train GCNN\n",
        "  net.train()\n",
        "  # load mini batch\n",
        "  #i = 0\n",
        "  for highreso_data, lowreso_data in train_batch:\n",
        "\n",
        "    # highreso_data size = 800, 16 * 50 = 800\n",
        "    print(highreso_data.size(),highreso_data[0,0,0,0],highreso_data[1,0,0,0])\n",
        "\n",
        "    highreso_data.requires_grad_()\n",
        "    lowreso_data.requires_grad_()\n",
        "    # transfer Tensor to GPU\n",
        "    highreso_data = highreso_data.to(device)\n",
        "    lowreso_data = lowreso_data.to(device)\n",
        "\n",
        "    # initialize grad\n",
        "    optimizer.zero_grad()\n",
        "    # calc pred\n",
        "    y_pred = net(lowreso_data)\n",
        "    # calc loss\n",
        "    loss = criterion(y_pred, highreso_data)\n",
        "    # calc grad\n",
        "    loss.backward()\n",
        "    # update parameters\n",
        "    optimizer.step()\n",
        "    # stock train loss\n",
        "    train_loss += loss.item()\n",
        "    #i += 1\n",
        "\n",
        "  # calc mean loss\n",
        "  batch_train_loss = train_loss / len(train_batch)\n",
        "\n",
        "  # evaluate GCNN\n",
        "  net.eval()\n",
        "  with torch.no_grad():\n",
        "    for highreso_data, lowreso_data in test_batch:\n",
        "      # transfer Tensor to GPU\n",
        "      highreso_data = highreso_data.to(device)\n",
        "      lowreso_data = lowreso_data.to(device)\n",
        "      # calc pred\n",
        "      y_pred = net(lowreso_data)\n",
        "      # calc loss\n",
        "      loss = criterion(y_pred, highreso_data)\n",
        "      # stock test loss\n",
        "      test_loss += loss.item()\n",
        "\n",
        "  # calc mean loss\n",
        "  batch_test_loss = test_loss / len(test_batch)\n",
        "\n",
        "  print(\"Train_Loss: {:.4f}\".format(batch_train_loss))\n",
        "  print(\"Test_Loss: {:.4f}\".format(batch_test_loss))\n",
        "\n",
        "  train_loss_list.append(batch_train_loss)\n",
        "  test_loss_list.append(batch_test_loss)"
      ],
      "metadata": {
        "id": "aWyx1SvsSFJ-",
        "colab": {
          "base_uri": "https://localhost:8080/"
        },
        "outputId": "28b48108-fcad-40af-fa1a-25f7dc9bc097"
      },
      "execution_count": 20,
      "outputs": [
        {
          "output_type": "stream",
          "name": "stdout",
          "text": [
            "---------------------------------------------\n",
            "Epoch: 1/2\n",
            "torch.Size([50, 2, 20, 20]) tensor(0.4787) tensor(-2.0567)\n",
            "torch.Size([50, 2, 20, 20]) tensor(0.2844) tensor(0.9061)\n",
            "torch.Size([50, 2, 20, 20]) tensor(0.9499) tensor(0.6986)\n",
            "torch.Size([50, 2, 20, 20]) tensor(-0.3342) tensor(0.0727)\n",
            "torch.Size([50, 2, 20, 20]) tensor(0.1121) tensor(0.2888)\n",
            "torch.Size([50, 2, 20, 20]) tensor(0.3821) tensor(-1.6058)\n",
            "torch.Size([50, 2, 20, 20]) tensor(0.5230) tensor(0.5347)\n",
            "torch.Size([50, 2, 20, 20]) tensor(0.1990) tensor(0.5974)\n",
            "torch.Size([50, 2, 20, 20]) tensor(1.0572) tensor(0.5349)\n",
            "torch.Size([50, 2, 20, 20]) tensor(0.9066) tensor(0.1713)\n",
            "torch.Size([50, 2, 20, 20]) tensor(1.0818) tensor(0.6671)\n",
            "torch.Size([50, 2, 20, 20]) tensor(-2.4475) tensor(-1.1540)\n",
            "torch.Size([50, 2, 20, 20]) tensor(0.9236) tensor(0.5408)\n",
            "torch.Size([50, 2, 20, 20]) tensor(0.2918) tensor(-2.0567)\n",
            "torch.Size([50, 2, 20, 20]) tensor(-1.5784) tensor(0.6509)\n",
            "torch.Size([50, 2, 20, 20]) tensor(1.0145) tensor(0.9580)\n",
            "Train_Loss: 1.0374\n",
            "Test_Loss: 0.9030\n",
            "---------------------------------------------\n",
            "Epoch: 2/2\n",
            "torch.Size([50, 2, 20, 20]) tensor(0.7456) tensor(0.8189)\n",
            "torch.Size([50, 2, 20, 20]) tensor(0.4661) tensor(0.4615)\n",
            "torch.Size([50, 2, 20, 20]) tensor(-2.0567) tensor(0.1713)\n",
            "torch.Size([50, 2, 20, 20]) tensor(-1.1290) tensor(0.7781)\n",
            "torch.Size([50, 2, 20, 20]) tensor(0.1774) tensor(0.0798)\n",
            "torch.Size([50, 2, 20, 20]) tensor(-2.0641) tensor(0.8690)\n",
            "torch.Size([50, 2, 20, 20]) tensor(-0.0835) tensor(0.6222)\n",
            "torch.Size([50, 2, 20, 20]) tensor(-1.4137) tensor(1.1704)\n",
            "torch.Size([50, 2, 20, 20]) tensor(-1.3049) tensor(0.4372)\n",
            "torch.Size([50, 2, 20, 20]) tensor(0.7790) tensor(0.8040)\n",
            "torch.Size([50, 2, 20, 20]) tensor(-0.2160) tensor(-0.0640)\n",
            "torch.Size([50, 2, 20, 20]) tensor(-2.2360) tensor(-1.2518)\n",
            "torch.Size([50, 2, 20, 20]) tensor(-1.1705) tensor(-2.0567)\n",
            "torch.Size([50, 2, 20, 20]) tensor(0.9235) tensor(0.0190)\n",
            "torch.Size([50, 2, 20, 20]) tensor(0.7537) tensor(0.0062)\n",
            "torch.Size([50, 2, 20, 20]) tensor(-1.8829) tensor(0.8726)\n",
            "Train_Loss: 1.0374\n",
            "Test_Loss: 0.9030\n"
          ]
        }
      ]
    },
    {
      "cell_type": "code",
      "source": [],
      "metadata": {
        "id": "WE1NQfVvEndj"
      },
      "execution_count": null,
      "outputs": []
    }
  ]
}