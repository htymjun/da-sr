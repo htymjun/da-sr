{
  "nbformat": 4,
  "nbformat_minor": 0,
  "metadata": {
    "colab": {
      "provenance": [],
      "gpuType": "T4"
    },
    "kernelspec": {
      "name": "python3",
      "display_name": "Python 3"
    },
    "language_info": {
      "name": "python"
    }
  },
  "cells": [
    {
      "cell_type": "code",
      "execution_count": 2,
      "metadata": {
        "id": "l2yMUy1lRuoG",
        "colab": {
          "base_uri": "https://localhost:8080/"
        },
        "outputId": "55d44761-f45e-4385-9e5e-70d45078ebd5"
      },
      "outputs": [
        {
          "output_type": "stream",
          "name": "stdout",
          "text": [
            "Cloning into 'da-sr'...\n",
            "remote: Enumerating objects: 60, done.\u001b[K\n",
            "remote: Counting objects: 100% (60/60), done.\u001b[K\n",
            "remote: Compressing objects: 100% (57/57), done.\u001b[K\n",
            "remote: Total 60 (delta 31), reused 0 (delta 0), pack-reused 0\u001b[K\n",
            "Receiving objects: 100% (60/60), 10.04 MiB | 8.32 MiB/s, done.\n",
            "Resolving deltas: 100% (31/31), done.\n"
          ]
        }
      ],
      "source": [
        "import numpy as np\n",
        "import os\n",
        "import matplotlib.pyplot as plt\n",
        "import torch\n",
        "import torch.nn as nn\n",
        "import torch.nn.functional as F\n",
        "\n",
        "!git clone https://github.com/htymjun/da-sr\n",
        "os.chdir('/content/da-sr')\n",
        "\n",
        "from read import fw_to_np"
      ]
    },
    {
      "cell_type": "code",
      "source": [
        "# read cn and fw files\n",
        "u, v, w, p, t, icount, x, y, z = fw_to_np('data')\n",
        "# interpolate\n",
        "uc = 0.5e0*(u[:-1,:,:]+u[1:,:,:])\n",
        "vc = 0.5e0*(v[:,:-1,:]+v[:,1:,:])\n",
        "wc = 0.5e0*(w[:,:,:-1]+w[:,:,1:])\n",
        "xc = 0.5e0*(x[:-1]+x[1:])\n",
        "yc = 0.5e0*(y[:-1]+y[1:])\n",
        "zc = 0.5e0*(z[:-1]+z[1:])"
      ],
      "metadata": {
        "id": "wEW_jxY1nvqW"
      },
      "execution_count": 3,
      "outputs": []
    },
    {
      "cell_type": "code",
      "source": [
        "Nz = int(0.5*len(zc))\n",
        "U = np.sqrt(uc[:,:,Nz]**2+vc[:,:,Nz]**2)\n",
        "Xc, Yc = np.meshgrid(xc,yc)\n",
        "\n",
        "fig, ax = plt.subplots()\n",
        "tcf = ax.contourf(Xc, Yc, np.transpose(U))\n",
        "fig.colorbar(tcf)"
      ],
      "metadata": {
        "colab": {
          "base_uri": "https://localhost:8080/",
          "height": 453
        },
        "id": "DOfoPs5qnbwW",
        "outputId": "ad3dcb85-ac7c-42c3-b089-370b76175970"
      },
      "execution_count": 4,
      "outputs": [
        {
          "output_type": "execute_result",
          "data": {
            "text/plain": [
              "<matplotlib.colorbar.Colorbar at 0x7fa0d751ee90>"
            ]
          },
          "metadata": {},
          "execution_count": 4
        },
        {
          "output_type": "display_data",
          "data": {
            "text/plain": [
              "<Figure size 640x480 with 2 Axes>"
            ],
            "image/png": "[encoded data removed]"
          },
          "metadata": {}
        }
      ]
    },
    {
      "cell_type": "code",
      "source": [
        "# set_batch\n",
        "Nx = 10\n",
        "Ny = 10\n",
        "ub = uc[:,:,Nz].reshape(-1,Nx,Ny)\n",
        "vb = vc[:,:,Nz].reshape(-1,Nx,Ny)\n",
        "x = np.stack([ub,vb], axis=-1)\n",
        "x = np.swapaxes(x, 1,3) # x[batch_size,channel,height,width]\n",
        "\n",
        "# normalize\n",
        "N = len(x[:,0,0,0]) # N : batch_size\n",
        "ave = np.zeros(N)\n",
        "for i in range(N):\n",
        "  ave[i] = 0.5e0*(x[i,0,:,:].mean()+x[i,1,:,:].mean())\n",
        "  x[i,0,:,:] = np.divide(x[i,0,:,:],ave[i])\n",
        "  x[i,1,:,:] = np.divide(x[i,1,:,:],ave[i])"
      ],
      "metadata": {
        "id": "JFPYC48-WPbg"
      },
      "execution_count": 5,
      "outputs": []
    },
    {
      "cell_type": "code",
      "source": [
        "class GCNN(nn.Module):\n",
        "  def __init__(self, filters):\n",
        "    super(GCNN, self).__init__()\n",
        "    self.filters = filters\n",
        "\n",
        "  def rotate_filter(self, k):\n",
        "    return torch.rot90(self.filters, k, dims=(2,3))\n",
        "\n",
        "  def g_conv(self, x):\n",
        "    # Z2-P4 conv\n",
        "    x1 = F.conv2d(x, self.filters, stride=(1,1), padding=0)\n",
        "    x2 = F.conv2d(x, self.rotate_filter(1), stride=(1,1), padding=0)\n",
        "    x3 = F.conv2d(x, self.rotate_filter(2), stride=(1,1), padding=0)\n",
        "    x4 = F.conv2d(x, self.rotate_filter(3), stride=(1,1), padding=0)\n",
        "    '''\n",
        "    # P4-P4 conv\n",
        "    x1 = F.conv2d(x1, self.filters, stride=(1,1), padding=0)\n",
        "    x2 = F.conv2d(x2, self.rotate_filter(1), stride=(1,1), padding=0)\n",
        "    x3 = F.conv2d(x3, self.rotate_filter(2), stride=(1,1), padding=0)\n",
        "    x4 = F.conv2d(x4, self.rotate_filter(3), stride=(1,1), padding=0)\n",
        "    '''\n",
        "    # pooling\n",
        "    x1 = F.max_pool2d(x1, kernel_size=2, stride=1, padding=0)\n",
        "    x2 = F.max_pool2d(x2, kernel_size=2, stride=1, padding=0)\n",
        "    x3 = F.max_pool2d(x3, kernel_size=2, stride=1, padding=0)\n",
        "    x4 = F.max_pool2d(x4, kernel_size=2, stride=1, padding=0)\n",
        "    x = torch.max(torch.max(x1,x2),torch.max(x3,x4))\n",
        "    return x\n",
        "\n",
        "  def forward(self, x):\n",
        "    x = self.g_conv(x)\n",
        "\n",
        "    return x"
      ],
      "metadata": {
        "id": "XSLFmTDdlK6-"
      },
      "execution_count": 19,
      "outputs": []
    },
    {
      "cell_type": "code",
      "source": [
        "filters = torch.randn([1, 2, 5, 5]) # filters[batch_size,input_channel,height,width]\n",
        "X = torch.tensor(x)                 # x[batch_size,channel,height,width]\n",
        "\n",
        "model = GCNN(filters=filters)\n",
        "x1 = model(torch.rot90(X,dims=(2,3))) # rotate input 90 degree\n",
        "x2 = model(X)"
      ],
      "metadata": {
        "id": "1G7xclY1P3iz"
      },
      "execution_count": 20,
      "outputs": []
    },
    {
      "cell_type": "code",
      "source": [
        "# visualize\n",
        "Xc, Yc = np.meshgrid(np.linspace(0,1,len(x1[0,0,0,:])),np.linspace(0,1,len(x1[0,0,:,0])))\n",
        "\n",
        "fig, axes = plt.subplots(1,2)\n",
        "tcf = axes[0].contourf(Xc, Yc, x1[0,0,:,:])\n",
        "axes[0].set_aspect('equal')\n",
        "tcf = axes[1].contourf(Xc, Yc, np.rot90(x2[0,0,:,:],k=1)) # rotate output 90 degree\n",
        "axes[1].set_aspect('equal')"
      ],
      "metadata": {
        "colab": {
          "base_uri": "https://localhost:8080/",
          "height": 291
        },
        "id": "Mw4gfzTOV5Do",
        "outputId": "c765b938-4525-43aa-85a0-1406e27bbf2e"
      },
      "execution_count": 21,
      "outputs": [
        {
          "output_type": "display_data",
          "data": {
            "text/plain": [
              "<Figure size 640x480 with 2 Axes>"
            ],
            "image/png": "[encoded data removed]"
          },
          "metadata": {}
        }
      ]
    },
    {
      "cell_type": "code",
      "source": [],
      "metadata": {
        "id": "AyXUy99nROoe"
      },
      "execution_count": null,
      "outputs": []
    }
  ]
}
