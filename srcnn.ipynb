{
  "nbformat": 4,
  "nbformat_minor": 0,
  "metadata": {
    "colab": {
      "provenance": []
    },
    "kernelspec": {
      "name": "python3",
      "display_name": "Python 3"
    },
    "language_info": {
      "name": "python"
    }
  },
  "cells": [
    {
      "cell_type": "code",
      "execution_count": 1,
      "metadata": {
        "id": "aZUvVGCXj0jx",
        "outputId": "cbd41b87-5cb1-4c77-bde2-c96b7af0ff78",
        "colab": {
          "base_uri": "https://localhost:8080/"
        }
      },
      "outputs": [
        {
          "output_type": "stream",
          "name": "stdout",
          "text": [
            "Cloning into 'da-sr'...\n",
            "remote: Enumerating objects: 52, done.\u001b[K\n",
            "remote: Counting objects: 100% (52/52), done.\u001b[K\n",
            "remote: Compressing objects: 100% (49/49), done.\u001b[K\n",
            "remote: Total 52 (delta 25), reused 0 (delta 0), pack-reused 0\u001b[K\n",
            "Receiving objects: 100% (52/52), 10.02 MiB | 7.30 MiB/s, done.\n",
            "Resolving deltas: 100% (25/25), done.\n"
          ]
        }
      ],
      "source": [
        "import numpy as np\n",
        "import os\n",
        "import matplotlib.pyplot as plt\n",
        "\n",
        "import jax, optax\n",
        "from jax import random, numpy as jnp\n",
        "from flax import linen as nn\n",
        "from flax.training import train_state\n",
        "from flax.core.frozen_dict import freeze, unfreeze\n",
        "\n",
        "!git clone https://github.com/htymjun/da-sr\n",
        "os.chdir('/content/da-sr')\n",
        "\n",
        "from read import fw_to_np"
      ]
    },
    {
      "cell_type": "code",
      "source": [
        "# read cn and fw files\n",
        "u, v, w, p, t, icount, x, y, z = fw_to_np('data')\n",
        "# interpolate\n",
        "uc = 0.5e0*(u[:-1,:,:]+u[1:,:,:])\n",
        "vc = 0.5e0*(v[:,:-1,:]+v[:,1:,:])\n",
        "wc = 0.5e0*(w[:,:,:-1]+w[:,:,1:])\n",
        "xc = 0.5e0*(x[:-1]+x[1:])\n",
        "yc = 0.5e0*(y[:-1]+y[1:])\n",
        "zc = 0.5e0*(z[:-1]+z[1:])"
      ],
      "metadata": {
        "id": "gfvkTWODkXVj"
      },
      "execution_count": 2,
      "outputs": []
    },
    {
      "cell_type": "code",
      "source": [
        "Nz = int(0.5*len(zc))\n",
        "U = np.sqrt(uc[:,:,Nz]**2+vc[:,:,Nz]**2)\n",
        "Xc, Yc = np.meshgrid(xc,yc)\n",
        "\n",
        "fig, ax = plt.subplots()\n",
        "tcf = ax.contourf(Xc, Yc, np.transpose(U))\n",
        "fig.colorbar(tcf)"
      ],
      "metadata": {
        "id": "PguXw_WskZXK",
        "outputId": "735f2f1e-36d1-4ee3-b305-b56dd607146c",
        "colab": {
          "base_uri": "https://localhost:8080/",
          "height": 453
        }
      },
      "execution_count": 3,
      "outputs": [
        {
          "output_type": "execute_result",
          "data": {
            "text/plain": [
              "<matplotlib.colorbar.Colorbar at 0x7b053389ff10>"
            ]
          },
          "metadata": {},
          "execution_count": 3
        },
        {
          "output_type": "display_data",
          "data": {
            "text/plain": [
              "<Figure size 640x480 with 2 Axes>"
            ],
            "image/png": "[encoded data removed]"
          },
          "metadata": {}
        }
      ]
    },
    {
      "cell_type": "code",
      "source": [
        "# set_batch\n",
        "Nx = 20\n",
        "Ny = 20\n",
        "ub = uc[:,:,Nz].reshape(-1,Nx,Ny)\n",
        "vb = vc[:,:,Nz].reshape(-1,Nx,Ny)\n",
        "x = np.stack([ub,vb], axis=-1)\n",
        "\n",
        "# normalize\n",
        "N = len(x[:,0,0,0])\n",
        "ave = np.zeros(N)\n",
        "for i in range(N):\n",
        "  ave[i] = 0.5e0*(x[i,:,:,0].mean()+x[i,:,:,1].mean())\n",
        "  x[i,:,:,0] = np.divide(x[i,:,:,0],ave[i])\n",
        "  x[i,:,:,1] = np.divide(x[i,:,:,1],ave[i])"
      ],
      "metadata": {
        "id": "pubDrKKzkbyc"
      },
      "execution_count": 4,
      "outputs": []
    },
    {
      "cell_type": "code",
      "source": [
        "class CNN(nn.Module):\n",
        "  @nn.compact\n",
        "  def __call__(self, x):\n",
        "    x = nn.Conv(features=64,kernel_size=(3,3),strides=(1,1),padding='SAME')(x)\n",
        "    x = nn.relu(x)\n",
        "    #x = nn.max_pool(x,window_shape=(2,2), strides=(2,2), padding='VALID')\n",
        "\n",
        "    x = nn.Conv(features=32,kernel_size=(3,3),strides=(1,1),padding='SAME')(x)\n",
        "    x = nn.relu(x)\n",
        "    #x = nn.max_pool(x,window_shape=(2,2), strides=(2,2), padding='VALID')\n",
        "\n",
        "    x = nn.Conv(features=2,kernel_size=(3,3),strides=(1,1),padding='SAME')(x)\n",
        "    return x"
      ],
      "metadata": {
        "id": "PxL6SiUTkd2c"
      },
      "execution_count": 53,
      "outputs": []
    },
    {
      "cell_type": "code",
      "source": [
        "# initialize model\n",
        "key = random.PRNGKey(0)\n",
        "model = CNN()\n",
        "\n",
        "params = model.init(key,jnp.ones_like(x)) # x(batch,height,width,channel)\n",
        "\n",
        "# calc convolution\n",
        "output = model.apply(params,x)"
      ],
      "metadata": {
        "id": "fWUHngv7kgDj"
      },
      "execution_count": 54,
      "outputs": []
    },
    {
      "cell_type": "code",
      "source": [
        "print(x.shape)\n",
        "print(output.shape)\n",
        "print(output[1,:,:,1])"
      ],
      "metadata": {
        "id": "2EVdClnhsADM",
        "outputId": "dcbb6c54-f5f3-4467-84ed-52d1bc1d0465",
        "colab": {
          "base_uri": "https://localhost:8080/"
        }
      },
      "execution_count": 55,
      "outputs": [
        {
          "output_type": "stream",
          "name": "stdout",
          "text": [
            "(50, 20, 20, 2)\n",
            "(50, 20, 20, 2)\n",
            "[[ 2.05059037e-01  5.04411519e-01  4.11232591e-01  2.13247910e-01\n",
            "   2.09267050e-01  2.74189115e-01  2.96754777e-01  3.08541596e-01\n",
            "   3.18302989e-01  3.22932869e-01  3.21509838e-01  3.17932665e-01\n",
            "   3.12110841e-01  3.02520037e-01  2.90185004e-01  2.78251201e-01\n",
            "   2.69397110e-01  3.97992134e-01  3.84685904e-01  8.09538513e-02]\n",
            " [ 4.83505815e-01  4.21884447e-01  6.99264407e-01  9.24471736e-01\n",
            "   1.17931342e+00  1.09175551e+00  1.06166816e+00  1.04054487e+00\n",
            "   1.02128446e+00  1.00163281e+00  9.86160219e-01  9.74053621e-01\n",
            "   9.62988496e-01  9.55938101e-01  9.56386030e-01  9.63664293e-01\n",
            "   9.85905647e-01  9.87419486e-01  6.53090358e-01  4.53774333e-02]\n",
            " [ 9.45702046e-02  7.69375637e-02  9.49061871e-01  9.53408778e-01\n",
            "   1.13591981e+00  1.13471639e+00  1.14879143e+00  1.17084181e+00\n",
            "   1.19619799e+00  1.21758699e+00  1.23174262e+00  1.23682475e+00\n",
            "   1.23488069e+00  1.22344089e+00  1.19379103e+00  1.14791644e+00\n",
            "   1.07342839e+00  8.03747177e-01  7.47152507e-01  3.72046053e-01]\n",
            " [ 5.47757208e-01  7.25898862e-01  1.01458216e+00  5.63127100e-01\n",
            "   4.66482222e-01  3.06971759e-01  2.00516284e-01  1.13450170e-01\n",
            "   4.15469408e-02 -2.39248872e-02 -8.27195048e-02 -1.30184650e-01\n",
            "  -1.75233126e-01 -2.13078678e-01 -2.39548385e-01 -2.50422776e-01\n",
            "  -2.39996254e-01 -4.47563946e-01 -1.99603409e-01 -1.48045123e-02]\n",
            " [ 2.73027152e-01 -2.48621315e-01 -4.57600921e-01 -3.99791121e-01\n",
            "  -1.23126030e-01 -4.42730784e-02 -2.14326382e-03  3.55720818e-02\n",
            "   7.09802061e-02  1.15076646e-01  1.62191227e-01  2.08043903e-01\n",
            "   2.53950775e-01  3.04097444e-01  3.69034410e-01  4.46812391e-01\n",
            "   5.50731063e-01  5.35436988e-01  7.42816567e-01  3.55327845e-01]\n",
            " [ 4.53609616e-01  9.68598962e-01  1.34416842e+00  1.49895501e+00\n",
            "   1.44294524e+00  1.50106072e+00  1.55009937e+00  1.59661329e+00\n",
            "   1.64604735e+00  1.68312299e+00  1.70933270e+00  1.73043466e+00\n",
            "   1.74847639e+00  1.76111948e+00  1.76759541e+00  1.77203345e+00\n",
            "   1.75601137e+00  1.67279446e+00  1.41939449e+00  7.35626936e-01]\n",
            " [ 3.51656497e-01  4.20162022e-01  9.07365382e-01  1.24541116e+00\n",
            "   1.44098151e+00  1.38565588e+00  1.32592845e+00  1.27114654e+00\n",
            "   1.21834230e+00  1.17204571e+00  1.13453829e+00  1.10723722e+00\n",
            "   1.08831465e+00  1.08011520e+00  1.08074856e+00  1.08907032e+00\n",
            "   1.10026455e+00  9.10248041e-01  1.01756632e+00  3.31080258e-01]\n",
            " [ 1.23070225e-01  1.08260147e-01  1.06693602e+00  1.12887168e+00\n",
            "   1.34136581e+00  1.30532050e+00  1.30533886e+00  1.31731391e+00\n",
            "   1.33465743e+00  1.35624576e+00  1.37230372e+00  1.37961507e+00\n",
            "   1.38141441e+00  1.37454259e+00  1.35062838e+00  1.31003189e+00\n",
            "   1.23958814e+00  9.87777472e-01  8.93523037e-01  4.39245611e-01]\n",
            " [ 5.50652564e-01  7.27640331e-01  1.01573789e+00  5.64347982e-01\n",
            "   4.67664003e-01  3.08785379e-01  2.01962173e-01  1.15915835e-01\n",
            "   4.52873111e-02 -1.88001394e-02 -7.64007568e-02 -1.23202920e-01\n",
            "  -1.66678667e-01 -2.02807069e-01 -2.28163958e-01 -2.37828076e-01\n",
            "  -2.27329731e-01 -4.35644150e-01 -1.90945685e-01 -8.35573673e-03]\n",
            " [ 2.75458753e-01 -2.39576161e-01 -4.45691764e-01 -3.89092445e-01\n",
            "  -1.13580823e-01 -3.75029445e-02  4.30619717e-03  4.19209003e-02\n",
            "   7.54342824e-02  1.18507087e-01  1.64546385e-01  2.09924072e-01\n",
            "   2.54699409e-01  3.04364115e-01  3.67901385e-01  4.44871724e-01\n",
            "   5.47586262e-01  5.31153679e-01  7.38158226e-01  3.55137765e-01]\n",
            " [ 4.52771813e-01  9.67144847e-01  1.34115076e+00  1.49443889e+00\n",
            "   1.43792236e+00  1.49652302e+00  1.54606593e+00  1.59226358e+00\n",
            "   1.64133108e+00  1.67781925e+00  1.70358431e+00  1.72410870e+00\n",
            "   1.74074602e+00  1.75276935e+00  1.75835466e+00  1.76255274e+00\n",
            "   1.74615395e+00  1.66267347e+00  1.41379583e+00  7.31577396e-01]\n",
            " [ 3.48641068e-01  4.13409293e-01  9.02477622e-01  1.24109149e+00\n",
            "   1.43803346e+00  1.38302886e+00  1.32358098e+00  1.26947486e+00\n",
            "   1.21811366e+00  1.17335939e+00  1.13719904e+00  1.11056304e+00\n",
            "   1.09230971e+00  1.08461463e+00  1.08592522e+00  1.09446490e+00\n",
            "   1.10544550e+00  9.14539814e-01  1.01972544e+00  3.30771804e-01]\n",
            " [ 1.23110235e-01  1.11210160e-01  1.07037377e+00  1.13153195e+00\n",
            "   1.34381509e+00  1.30665648e+00  1.30587959e+00  1.31732237e+00\n",
            "   1.33386850e+00  1.35482788e+00  1.37029934e+00  1.37709630e+00\n",
            "   1.37897587e+00  1.37244093e+00  1.34894824e+00  1.30749023e+00\n",
            "   1.23827255e+00  9.88035083e-01  8.95527303e-01  4.38590467e-01]\n",
            " [ 5.53524852e-01  7.29814053e-01  1.01673830e+00  5.65695763e-01\n",
            "   4.68859911e-01  3.10541213e-01  2.03268766e-01  1.18261337e-01\n",
            "   4.80837226e-02 -1.40771866e-02 -7.04300404e-02 -1.16558790e-01\n",
            "  -1.58366144e-01 -1.92994416e-01 -2.17092574e-01 -2.25774825e-01\n",
            "  -2.14784861e-01 -4.25091028e-01 -1.83845401e-01 -1.56632066e-03]\n",
            " [ 2.77945220e-01 -2.30313063e-01 -4.33474779e-01 -3.78322482e-01\n",
            "  -1.03694856e-01 -3.02925408e-02  1.09564960e-02  4.83442247e-02\n",
            "   8.06659162e-02  1.22278184e-01  1.67218536e-01  2.12096184e-01\n",
            "   2.55870521e-01  3.04756016e-01  3.66863072e-01  4.42672908e-01\n",
            "   5.43948054e-01  5.25887549e-01  7.33968854e-01  3.53401542e-01]\n",
            " [ 4.52004135e-01  9.65156198e-01  1.33780313e+00  1.48947644e+00\n",
            "   1.43262374e+00  1.49177873e+00  1.54198468e+00  1.58803988e+00\n",
            "   1.63678205e+00  1.67282879e+00  1.69810379e+00  1.71799898e+00\n",
            "   1.73335421e+00  1.74462712e+00  1.74932933e+00  1.75277138e+00\n",
            "   1.73647046e+00  1.65270638e+00  1.40810370e+00  7.27979898e-01]\n",
            " [ 3.45490873e-01  4.06427503e-01  8.97551954e-01  1.23665893e+00\n",
            "   1.43496144e+00  1.38039565e+00  1.32122564e+00  1.26751184e+00\n",
            "   1.21777892e+00  1.17448258e+00  1.13965404e+00  1.11376202e+00\n",
            "   1.09630799e+00  1.08902442e+00  1.09104705e+00  1.10000134e+00\n",
            "   1.11099553e+00  9.20115709e-01  1.02231801e+00  3.30482662e-01]\n",
            " [ 1.83527261e-01  2.80180931e-01  1.32912087e+00  1.40181923e+00\n",
            "   1.56820369e+00  1.50221837e+00  1.49614310e+00  1.49895668e+00\n",
            "   1.50277793e+00  1.51096010e+00  1.51398826e+00  1.51525187e+00\n",
            "   1.51205492e+00  1.50643539e+00  1.49596393e+00  1.47530293e+00\n",
            "   1.43707824e+00  1.15159905e+00  1.04581320e+00  5.17850518e-01]\n",
            " [ 3.10000747e-01  8.48472834e-01  1.04361129e+00  8.85427356e-01\n",
            "   9.88147855e-01  9.22243178e-01  8.87136936e-01  8.60570908e-01\n",
            "   8.30876768e-01  8.01506341e-01  7.79264271e-01  7.65407383e-01\n",
            "   7.52987325e-01  7.41822481e-01  7.33497322e-01  7.27324784e-01\n",
            "   7.15753317e-01  5.80833972e-01  7.44761467e-01  5.34989178e-01]\n",
            " [ 5.64887375e-02  1.46437138e-01  4.41711932e-01  5.66580772e-01\n",
            "   5.39133787e-01  4.99871910e-01  4.68730867e-01  4.36567187e-01\n",
            "   4.09540266e-01  3.92829865e-01  3.82485569e-01  3.79329264e-01\n",
            "   3.89932662e-01  4.10213172e-01  4.38608468e-01  4.76996273e-01\n",
            "   5.26731849e-01  5.33989370e-01  7.36245096e-01  4.57424760e-01]]\n"
          ]
        }
      ]
    },
    {
      "cell_type": "code",
      "source": [
        "# visualize\n",
        "Xc, Yc = np.meshgrid(np.linspace(0,1,len(x[0,:,0,0])),np.linspace(0,1,len(x[0,0,:,0])))\n",
        "\n",
        "fig, axes = plt.subplots()\n",
        "tcf = ax.contourf(Xc, Yc, x[0,:,:,1])\n",
        "ax.set_aspect('equal')"
      ],
      "metadata": {
        "id": "9Yc-Ritwkirb",
        "outputId": "3fe395f3-c4bd-4994-a947-01efa86f6343",
        "colab": {
          "base_uri": "https://localhost:8080/",
          "height": 435
        }
      },
      "execution_count": 46,
      "outputs": [
        {
          "output_type": "display_data",
          "data": {
            "text/plain": [
              "<Figure size 640x480 with 1 Axes>"
            ],
            "image/png": "[encoded data removed]"
          },
          "metadata": {}
        }
      ]
    },
    {
      "cell_type": "code",
      "source": [],
      "metadata": {
        "id": "nv6J9XxNqgPM"
      },
      "execution_count": null,
      "outputs": []
    }
  ]
}